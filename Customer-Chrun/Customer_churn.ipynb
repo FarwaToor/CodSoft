{
 "cells": [
  {
   "cell_type": "code",
   "execution_count": 2,
   "id": "e9842cea-8a25-4ceb-af44-e5ab0017c6e3",
   "metadata": {},
   "outputs": [],
   "source": [
    "import pandas as pd\n",
    "from sklearn.model_selection import train_test_split\n",
    "from sklearn.preprocessing import LabelEncoder\n",
    "from sklearn.linear_model import LogisticRegression\n",
    "from sklearn.ensemble import RandomForestClassifier, GradientBoostingClassifier\n",
    "from sklearn.metrics import confusion_matrix, accuracy_score\n",
    "\n",
    "# Load the data\n",
    "data = pd.read_csv(\"Churn_Modelling.csv\")\n",
    "\n",
    "# Remove irrelevant columns\n",
    "data.drop(['RowNumber', 'CustomerId', 'Surname'], axis=1, inplace=True)\n",
    "\n",
    "# Encode categorical variables\n",
    "label_encoder = LabelEncoder()\n",
    "data['Geography'] = label_encoder.fit_transform(data['Geography'])\n",
    "data['Gender'] = label_encoder.fit_transform(data['Gender'])\n",
    "\n",
    "# Split features and target variable\n",
    "X = data.drop('Exited', axis=1)\n",
    "y = data['Exited']\n",
    "\n",
    "# Split data into training and testing sets\n",
    "X_train, X_test, y_train, y_test = train_test_split(X, y, test_size=0.2, random_state=42)\n"
   ]
  },
  {
   "cell_type": "code",
   "execution_count": 3,
   "id": "ae36cfb9-70d5-46fe-9cd7-431fc2da19c1",
   "metadata": {},
   "outputs": [],
   "source": [
    "# Train Logistic Regression model\n",
    "lr_model = LogisticRegression()\n",
    "lr_model.fit(X_train, y_train)\n",
    "lr_pred = lr_model.predict(X_test)\n",
    "\n",
    "# Train Random Forest model\n",
    "rf_model = RandomForestClassifier()\n",
    "rf_model.fit(X_train, y_train)\n",
    "rf_pred = rf_model.predict(X_test)\n",
    "\n",
    "# Train Gradient Boosting model\n",
    "gb_model = GradientBoostingClassifier()\n",
    "gb_model.fit(X_train, y_train)\n",
    "gb_pred = gb_model.predict(X_test)\n",
    "\n",
    "\n"
   ]
  },
  {
   "cell_type": "code",
   "execution_count": 4,
   "id": "e04fce53-e426-48c2-8908-d5b39b1541cc",
   "metadata": {},
   "outputs": [],
   "source": [
    "# Evaluate models\n",
    "lr_cm = confusion_matrix(y_test, lr_pred)\n",
    "rf_cm = confusion_matrix(y_test, rf_pred)\n",
    "gb_cm = confusion_matrix(y_test, gb_pred)\n",
    "\n",
    "lr_accuracy = accuracy_score(y_test, lr_pred)\n",
    "rf_accuracy = accuracy_score(y_test, rf_pred)\n",
    "gb_accuracy = accuracy_score(y_test, gb_pred)\n"
   ]
  },
  {
   "cell_type": "code",
   "execution_count": 5,
   "id": "ead2f2de-7fc9-425a-b247-113fc626d694",
   "metadata": {},
   "outputs": [
    {
     "name": "stdout",
     "output_type": "stream",
     "text": [
      "Logistic Regression Confusion Matrix:\n",
      "[[1573   34]\n",
      " [ 365   28]]\n",
      "Logistic Regression Accuracy: 0.8005\n",
      "\n",
      "Random Forest Confusion Matrix:\n",
      "[[1550   57]\n",
      " [ 209  184]]\n",
      "Random Forest Accuracy: 0.867\n",
      "\n",
      "Gradient Boosting Confusion Matrix:\n",
      "[[1547   60]\n",
      " [ 209  184]]\n",
      "Gradient Boosting Accuracy: 0.8655\n"
     ]
    }
   ],
   "source": [
    "print(\"Logistic Regression Confusion Matrix:\")\n",
    "print(lr_cm)\n",
    "print(\"Logistic Regression Accuracy:\", lr_accuracy)\n",
    "\n",
    "print(\"\\nRandom Forest Confusion Matrix:\")\n",
    "print(rf_cm)\n",
    "print(\"Random Forest Accuracy:\", rf_accuracy)\n",
    "\n",
    "print(\"\\nGradient Boosting Confusion Matrix:\")\n",
    "print(gb_cm)\n",
    "print(\"Gradient Boosting Accuracy:\", gb_accuracy)\n"
   ]
  },
  {
   "cell_type": "code",
   "execution_count": null,
   "id": "f12a3bac-53c1-473f-82d5-ea79c5e8c633",
   "metadata": {},
   "outputs": [],
   "source": []
  }
 ],
 "metadata": {
  "kernelspec": {
   "display_name": "Python 3 (ipykernel)",
   "language": "python",
   "name": "python3"
  },
  "language_info": {
   "codemirror_mode": {
    "name": "ipython",
    "version": 3
   },
   "file_extension": ".py",
   "mimetype": "text/x-python",
   "name": "python",
   "nbconvert_exporter": "python",
   "pygments_lexer": "ipython3",
   "version": "3.11.4"
  }
 },
 "nbformat": 4,
 "nbformat_minor": 5
}
