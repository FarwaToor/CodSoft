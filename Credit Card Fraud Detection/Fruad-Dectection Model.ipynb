{
 "cells": [
  {
   "cell_type": "code",
   "execution_count": 21,
   "id": "5da13133-472f-4cda-b132-94e40d094ca8",
   "metadata": {},
   "outputs": [],
   "source": [
    "import pandas as pd\n",
    "from sklearn.model_selection import train_test_split\n",
    "from sklearn.preprocessing import LabelEncoder\n",
    "from sklearn.linear_model import LogisticRegression\n",
    "from sklearn.tree import DecisionTreeClassifier\n",
    "from sklearn.ensemble import RandomForestClassifier\n",
    "from sklearn.metrics import confusion_matrix"
   ]
  },
  {
   "cell_type": "code",
   "execution_count": 22,
   "id": "44636249-59b4-437c-bff6-4dfb2e630242",
   "metadata": {},
   "outputs": [],
   "source": [
    "fraud_train = pd.read_csv('fraudTrain.csv')\n",
    "fraud_test = pd.read_csv('fraudTest.csv')"
   ]
  },
  {
   "cell_type": "code",
   "execution_count": 23,
   "id": "d327c412-78df-4f72-99f4-b2046cb76cd4",
   "metadata": {},
   "outputs": [],
   "source": [
    "# Drop unnecessary columns\n",
    "cols_to_drop = ['trans_date_trans_time', 'cc_num', 'first', 'last', 'street', 'city', 'state', 'zip', 'job', 'dob', 'trans_num', 'unix_time']\n",
    "fraud_train = fraud_train.drop(columns=cols_to_drop)\n",
    "fraud_test = fraud_test.drop(columns=cols_to_drop)"
   ]
  },
  {
   "cell_type": "code",
   "execution_count": 24,
   "id": "e4a2845a-0f3f-4c51-a1ad-2fdefc6b42da",
   "metadata": {},
   "outputs": [],
   "source": [
    "# Encode categorical variables\n",
    "label_encoders = {}\n",
    "for col in ['merchant', 'category', 'gender']:\n",
    "    label_encoders[col] = LabelEncoder()\n",
    "    fraud_train[col] = label_encoders[col].fit_transform(fraud_train[col])\n",
    "    fraud_test[col] = label_encoders[col].transform(fraud_test[col])"
   ]
  },
  {
   "cell_type": "code",
   "execution_count": 25,
   "id": "3ea61af5-ddf7-4c66-b47f-475616eb1c1c",
   "metadata": {},
   "outputs": [],
   "source": [
    "# Separate features and target variable\n",
    "X_train = fraud_train.drop(columns=['is_fraud'])\n",
    "y_train = fraud_train['is_fraud']\n",
    "X_test = fraud_test.drop(columns=['is_fraud'])\n",
    "y_test = fraud_test['is_fraud']"
   ]
  },
  {
   "cell_type": "code",
   "execution_count": 28,
   "id": "05d9b408-3f9c-4633-9a29-221e923c7fda",
   "metadata": {},
   "outputs": [],
   "source": [
    "# Train models\n",
    "models = {\n",
    "    \"Logistic Regression\": LogisticRegression(),\n",
    "    \"Decision Tree\": DecisionTreeClassifier(),\n",
    "    \"Random Forest\": RandomForestClassifier()\n",
    "}"
   ]
  },
  {
   "cell_type": "code",
   "execution_count": null,
   "id": "3c525867-441f-4c89-8b7c-721d394814dc",
   "metadata": {},
   "outputs": [],
   "source": [
    "for name, model in models.items():\n",
    "    model.fit(X_train, y_train)"
   ]
  },
  {
   "cell_type": "code",
   "execution_count": null,
   "id": "56d580ab-7e74-4fff-98f7-d3644796c53b",
   "metadata": {},
   "outputs": [],
   "source": [
    "# Evaluate models\n",
    "results = {}\n",
    "for name, model in models.items():\n",
    "    y_pred = model.predict(X_test)\n",
    "    results[name] = confusion_matrix(y_test, y_pred)"
   ]
  },
  {
   "cell_type": "code",
   "execution_count": null,
   "id": "508dca7c-1ddf-4c73-ac90-500962d9c746",
   "metadata": {},
   "outputs": [],
   "source": [
    "# Print confusion matrices\n",
    "for name, cm in results.items():\n",
    "    print(f\"Confusion Matrix for {name}:\")\n",
    "    print(cm)\n",
    "    print()"
   ]
  },
  {
   "cell_type": "code",
   "execution_count": null,
   "id": "9e2b818b-4c82-4787-bc6b-a66ff8e359c8",
   "metadata": {},
   "outputs": [],
   "source": []
  }
 ],
 "metadata": {
  "kernelspec": {
   "display_name": "Python 3 (ipykernel)",
   "language": "python",
   "name": "python3"
  },
  "language_info": {
   "codemirror_mode": {
    "name": "ipython",
    "version": 3
   },
   "file_extension": ".py",
   "mimetype": "text/x-python",
   "name": "python",
   "nbconvert_exporter": "python",
   "pygments_lexer": "ipython3",
   "version": "3.11.4"
  }
 },
 "nbformat": 4,
 "nbformat_minor": 5
}
