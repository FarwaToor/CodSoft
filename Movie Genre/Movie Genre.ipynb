{
 "cells": [
  {
   "cell_type": "code",
   "execution_count": 4,
   "id": "d4cbfb1c-ac34-4ecb-916c-7861979db3b8",
   "metadata": {},
   "outputs": [],
   "source": [
    "import pandas as pd\n",
    "from sklearn.feature_extraction.text import TfidfVectorizer\n",
    "from sklearn.linear_model import LogisticRegression\n",
    "from sklearn.metrics import accuracy_score\n",
    "\n",
    "# Load train data\n",
    "train_data = pd.read_csv(\"train_data.txt\", sep=\" ::: \", engine=\"python\", header=None, names=['ID', 'TITLE', 'GENRE', 'DESCRIPTION'])\n",
    "\n",
    "# Load test data and solution\n",
    "test_data = pd.read_csv(\"test_data.txt\", sep=\" ::: \", engine=\"python\", header=None, names=['ID', 'TITLE', 'GENRE', 'DESCRIPTION'])\n",
    "test_data_solution = pd.read_csv(\"test_data_solution.txt\", sep=\" ::: \", engine=\"python\", header=None, names=['ID', 'TITLE', 'GENRE', 'DESCRIPTION'])\n",
    "\n",
    "# Preprocess data\n",
    "train_texts = train_data['DESCRIPTION'].astype(str).values\n",
    "train_labels = train_data['GENRE'].values\n",
    "test_texts = test_data['DESCRIPTION'].astype(str).values\n",
    "test_labels = test_data_solution['GENRE'].values  # This will be used for evaluation purposes\n",
    "\n"
   ]
  },
  {
   "cell_type": "code",
   "execution_count": 19,
   "id": "b5e5f177-94fc-4f2e-ab6a-48c85cf3fbaf",
   "metadata": {},
   "outputs": [],
   "source": [
    "# Vectorize text using TF-IDF\n",
    "tfidf_vectorizer = TfidfVectorizer(max_features=1000)\n",
    "X_train = tfidf_vectorizer.fit_transform(train_texts)\n",
    "X_test = tfidf_vectorizer.transform(test_texts)"
   ]
  },
  {
   "cell_type": "code",
   "execution_count": 20,
   "id": "8e1fe6e8-f4b8-4028-b7c1-af5a34f5d2a4",
   "metadata": {},
   "outputs": [],
   "source": [
    "# Train Logistic Regression model\n",
    "model = LogisticRegression(max_iter=1000)\n",
    "model.fit(X_train, train_labels)\n",
    "\n",
    "# Predict on test data\n",
    "predictions = model.predict(X_test)"
   ]
  },
  {
   "cell_type": "code",
   "execution_count": 21,
   "id": "3288f0df-fe4e-42c0-b9d0-e16925a12305",
   "metadata": {},
   "outputs": [
    {
     "name": "stdout",
     "output_type": "stream",
     "text": [
      "Accuracy: 0.09357933579335793\n"
     ]
    }
   ],
   "source": [
    "# Evaluate the model\n",
    "accuracy = accuracy_score(test_labels, predictions)\n",
    "print(\"Accuracy:\", accuracy)"
   ]
  },
  {
   "cell_type": "code",
   "execution_count": 22,
   "id": "8a9f5612-54fc-450b-aa57-49e9ec38046d",
   "metadata": {},
   "outputs": [
    {
     "name": "stdout",
     "output_type": "stream",
     "text": [
      "Accuracy: 0.2511439114391144\n"
     ]
    }
   ],
   "source": [
    "from sklearn.naive_bayes import MultinomialNB\n",
    "model = MultinomialNB()\n",
    "model.fit(X_train, train_labels)\n",
    "\n",
    "# Predict on test data\n",
    "predictions = model.predict(X_test)\n",
    "\n",
    "# Evaluate the model\n",
    "accuracy = accuracy_score(test_labels, predictions)\n",
    "print(\"Accuracy:\", accuracy)"
   ]
  },
  {
   "cell_type": "code",
   "execution_count": 25,
   "id": "8243f498-8b35-4444-afa6-98febe6ed791",
   "metadata": {},
   "outputs": [
    {
     "name": "stdout",
     "output_type": "stream",
     "text": [
      "Accuracy: 0.09357933579335793\n"
     ]
    }
   ],
   "source": [
    "from sklearn.svm import SVC\n",
    "# Train Support Vector Machines model\n",
    "model = SVC()\n",
    "model.fit(X_train, train_labels)\n",
    "\n",
    "# Predict on test data\n",
    "predictions = model.predict(X_test)\n",
    "\n",
    "# Evaluate the model\n",
    "accuracy = accuracy_score(test_labels, predictions)\n",
    "print(\"Accuracy:\", accuracy)"
   ]
  },
  {
   "cell_type": "code",
   "execution_count": null,
   "id": "e33545f4-b01c-46af-a7f2-a8f6444e0f76",
   "metadata": {},
   "outputs": [],
   "source": []
  }
 ],
 "metadata": {
  "kernelspec": {
   "display_name": "Python 3 (ipykernel)",
   "language": "python",
   "name": "python3"
  },
  "language_info": {
   "codemirror_mode": {
    "name": "ipython",
    "version": 3
   },
   "file_extension": ".py",
   "mimetype": "text/x-python",
   "name": "python",
   "nbconvert_exporter": "python",
   "pygments_lexer": "ipython3",
   "version": "3.11.4"
  }
 },
 "nbformat": 4,
 "nbformat_minor": 5
}
